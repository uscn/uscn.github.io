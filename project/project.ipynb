{
 "cells": [
  {
   "cell_type": "markdown",
   "metadata": {
    "collapsed": true
   },
   "source": [
    "<center><h1>The Centroid and PCA Method Applied to Digit Recognition</h1></center>\n",
    "<center><h2>Quan Li<h2></center>"
   ]
  },
  {
   "cell_type": "markdown",
   "metadata": {},
   "source": [
    "<p>Although many classification algorithms for handwriting digit recognition have been around for a long time, the centroid and principal component analysis algorithms are two basic, simple, and well-known. The centroid algorithm provides a very simple approach to classifying digits, and the PCA method is a way to classify digits that relies on using the singular value decomposition(SVD) to compute defining characteristics. We will examine these two algorithms’ efficiency because algorithm efficiency is a very important property of an algorithm. We will present the centroid and PCA algorithms’ accuracy and performance in handwriting digit recognition on the most famous MNIST database of handwritten digits. We not only consider raw accuracy but also training time and recognition time.</p>"
   ]
  },
  {
   "cell_type": "markdown",
   "metadata": {},
   "source": [
    "<p>The database used to train and test the algorithms in this paper was the famous MNIST database of handwritten digits which is a subset of a lager set available from NIST. The MNIST database of handwritten digits has a set of 60000 examples which are stored in matrix named train 0-9, and a test set of 10000 examples which are stored in matrix named test 0-9. The digits have been size-normalized and centered to fit in a 28*28 pixel box. Now, we improt the database \"mnistdata.mat\".</p>"
   ]
  },
  {
   "cell_type": "code",
   "execution_count": 1,
   "metadata": {
    "collapsed": false
   },
   "outputs": [],
   "source": [
    "import scipy.io\n",
    "import time\n",
    "import numpy as np\n",
    "import matplotlib.pyplot as plt\n",
    "from PIL import Image\n",
    "plt.style.use(\"ggplot\")\n",
    "%matplotlib inline\n",
    "mat = scipy.io.loadmat('mnistdata.mat')"
   ]
  },
  {
   "cell_type": "markdown",
   "metadata": {},
   "source": [
    "First, Let us check one of the images in the database to see what it looks like. Then, we will introduce the algorithm."
   ]
  },
  {
   "cell_type": "code",
   "execution_count": 2,
   "metadata": {
    "collapsed": false
   },
   "outputs": [
    {
     "data": {
      "image/png": "[encoded data removed]",
      "text/plain": [
       "<PIL.Image.Image image mode=L size=28x28 at 0x10BBEE250>"
      ]
     },
     "execution_count": 2,
     "metadata": {},
     "output_type": "execute_result"
    }
   ],
   "source": [
    "Image.fromarray(np.uint8(np.reshape(mat['train9'][1,:],(28,28))))"
   ]
  },
  {
   "cell_type": "markdown",
   "metadata": {},
   "source": [
    "<b>Centroid method</b><br>\n",
    "<p>\n",
    "<b>Training:</b><br> \n",
    "Given the manually classiﬁed training set, compute the means (centroids)  of all the 10 digits.\n",
    "</p>\n",
    "<p>\n",
    "for i=1 to 10\n",
    "<pre>T(i,:) = mean(train(i))</pre>\n",
    "end\n",
    "</p>"
   ]
  },
  {
   "cell_type": "code",
   "execution_count": 3,
   "metadata": {
    "collapsed": false
   },
   "outputs": [],
   "source": [
    "centroid_time=[]\n",
    "T=[]\n",
    "#traning\n",
    "start_time = time.time()\n",
    "for i in xrange(10):\n",
    "    T.append((np.mean(mat[\"train\"+str(i)],axis=0)).tolist())\n",
    "centroid_time.append(time.time() - start_time)"
   ]
  },
  {
   "cell_type": "markdown",
   "metadata": {},
   "source": [
    "<b>Test:</b><br> \n",
    "<p>For each digit in the test set, compute its norm in all 10 bases, classify it as I-1 if distance(k) is the closest mean.</p>\n",
    "\n",
    "<p>\n",
    "for k=1 to 10\n",
    "<pre>distance[k] = norm( z - T[k] );</pre>\n",
    "end<br>\n",
    "<br>\n",
    "I=argmin(distance);\n",
    "</p>"
   ]
  },
  {
   "cell_type": "code",
   "execution_count": 4,
   "metadata": {
    "collapsed": false
   },
   "outputs": [],
   "source": [
    "def centroid_method(A,T):\n",
    "    \"\"\"\n",
    "    INPUT: A(a n-by-784 test array/images), \n",
    "           T(a 10-by-784 array T, where i-th row contains the average of (i-1)-th training digit)\n",
    "    OUTPUT: an n-by-1 vector containing the results of the classification (0-9) for the test images.\n",
    "    \"\"\"\n",
    "    m=A.shape[0]\n",
    "    v = []\n",
    "    for i in xrange(m):\n",
    "        z = A[i,:].astype(float)\n",
    "        dist = []\n",
    "        for k in xrange(10):\n",
    "            dist.append(np.linalg.norm(z-T[k]))\n",
    "        min_index=np.argmin(dist)\n",
    "        v.append(min_index)\n",
    "    return v"
   ]
  },
  {
   "cell_type": "code",
   "execution_count": 5,
   "metadata": {
    "collapsed": false
   },
   "outputs": [],
   "source": [
    "result1=[]\n",
    "#testing\n",
    "start_time = time.time()\n",
    "for i in xrange(10):\n",
    "    A=mat[\"test\"+str(i)]\n",
    "    v=centroid_method(A,T)\n",
    "    result1.append(float(v.count(i))/float(A.shape[0]))\n",
    "centroid_time.append(time.time() - start_time)"
   ]
  },
  {
   "cell_type": "markdown",
   "metadata": {},
   "source": [
    "<b>PCA method</b><br>\n",
    "\n",
    "<p><b>Training:</b><br> For the training set of known digits, compute the SVD of each set of digits of one kind. Compute SVDs of 10 matrices of dimension . Each digit is an m × m digitized image. : the number of training digits i.</p>\n",
    "\n",
    "<p>\n",
    "for i=0 to 9\n",
    "<pre>u, d, vt = svd(train(i).T );\n",
    "T(:,:,k)=u[:, :basis_len];</pre>\n",
    "end\n",
    "</p>\n"
   ]
  },
  {
   "cell_type": "code",
   "execution_count": 6,
   "metadata": {
    "collapsed": false
   },
   "outputs": [],
   "source": [
    "PCA_time=[]\n",
    "basis_len = 5\n",
    "T=np.empty((28*28,basis_len,10))\n",
    "#traning\n",
    "start_time = time.time()\n",
    "for i in xrange(10):\n",
    "    A = mat[\"train\"+str(i)]\n",
    "    u, d, vt = np.linalg.svd(A.T)\n",
    "    T[:,:,i]=u[:, :basis_len]\n",
    "PCA_time.append(time.time() - start_time)"
   ]
  },
  {
   "cell_type": "markdown",
   "metadata": {},
   "source": [
    "<p><b>Test:</b><br>\n",
    "For a given test digit z, compute its relative residual in all 10 bases, classify it as I-1 if distance(k) is the smallest relative residual.</p>\n",
    "\n",
    "<p>for i=0 to 9\n",
    "<pre>Ti = T(:,:,i);\n",
    "distance(k) = norm( z - Ti*(Ti.T*z));</pre>\n",
    "end<br>\n",
    "I=argmin(distance);\n",
    "</p>"
   ]
  },
  {
   "cell_type": "code",
   "execution_count": 7,
   "metadata": {
    "collapsed": false
   },
   "outputs": [],
   "source": [
    "def PCA_method(A,T):\n",
    "    \"\"\"\n",
    "    INPUT: A(a n-by-784 test array/images), \n",
    "           T(a 784-by-n-by-10 array U, where U(:,:,i) contains \n",
    "             the first n singular vectors of the (i-1)-th training digit)\n",
    "    OUTPUT: an n-by-1 vector containing the results of the classification (0-9) for the test images.\n",
    "    \"\"\"\n",
    "    m=A.shape[0]\n",
    "    v = []\n",
    "    for i in xrange(m):\n",
    "        z = np.mat(A[i,:]).astype(float).T\n",
    "        dist = []\n",
    "        for k in xrange(10):\n",
    "            Uk = T[:,:,k]\n",
    "            dist.append(np.linalg.norm((z-Uk*(Uk.T*z))))\n",
    "        min_index=np.argmin(dist)\n",
    "        v.append(min_index)\n",
    "    return v"
   ]
  },
  {
   "cell_type": "code",
   "execution_count": 8,
   "metadata": {
    "collapsed": false
   },
   "outputs": [],
   "source": [
    "#Test\n",
    "result2=[]\n",
    "start_time = time.time()\n",
    "for i in xrange(10):\n",
    "    A=mat[\"test\"+str(i)]\n",
    "    v=PCA_method(A,T)\n",
    "    result2.append(float(v.count(i))/float(A.shape[0]))\n",
    "PCA_time.append(time.time() - start_time)"
   ]
  },
  {
   "cell_type": "markdown",
   "metadata": {},
   "source": [
    "Now, we compare the accuracy rate and time cost by ploting"
   ]
  },
  {
   "cell_type": "code",
   "execution_count": 9,
   "metadata": {
    "collapsed": false
   },
   "outputs": [
    {
     "data": {
      "image/png": "[encoded data removed]",
      "text/plain": [
       "<matplotlib.figure.Figure at 0x1042c2a10>"
      ]
     },
     "metadata": {},
     "output_type": "display_data"
    }
   ],
   "source": [
    "ind = np.arange(10)\n",
    "width = 0.5 \n",
    "fig = plt.figure()\n",
    "ax = fig.add_subplot(111)\n",
    "ax.set_ylim(0,1.5)\n",
    "rects1=ax.bar(ind, result1,width)\n",
    "rects2=ax.bar(ind+width, result2,width,color='orange')\n",
    "ax.set_title(\"Accuracy Rate\")\n",
    "ax.legend( (rects1[0], rects2[0]), ('Centroid', 'PCA') )\n",
    "plt.show()"
   ]
  },
  {
   "cell_type": "markdown",
   "metadata": {},
   "source": [
    "According to the accuracy rate plot showed above, the centroid algorithm performed worst on digit 5, and the PCA algorithm presented different accuracy rate on same digit when the approximate lengths are different. However, for every single digit, the PCA algorithm performed better than the centroid algorithm. Moreover, as the centroid algorithm present accuracy rate on digit 1, we get that the centroid algorithm works well on simple pattern."
   ]
  },
  {
   "cell_type": "code",
   "execution_count": 10,
   "metadata": {
    "collapsed": false
   },
   "outputs": [
    {
     "data": {
      "image/png": "[encoded data removed]",
      "text/plain": [
       "<matplotlib.figure.Figure at 0x10fbc7710>"
      ]
     },
     "metadata": {},
     "output_type": "display_data"
    }
   ],
   "source": [
    "ind = np.arange(2)\n",
    "width = 0.5 \n",
    "fig = plt.figure()\n",
    "ax = fig.add_subplot(111)\n",
    "rects1=ax.bar(ind, centroid_time,width)\n",
    "rects2=ax.bar(ind+width, PCA_time,width,color='orange')\n",
    "ax.set_title(\"Time Cost\")\n",
    "ax.legend( (rects1[0], rects2[0]), ('Centroid', 'PCA') )\n",
    "plt.show()"
   ]
  },
  {
   "cell_type": "markdown",
   "metadata": {},
   "source": [
    "The above time cost plot shows the training and testing time for the centroid method and PCA method. The centroid method used much less time than the PCA method. Moreover, the training time cost of the PCA method is relatively high."
   ]
  },
  {
   "cell_type": "markdown",
   "metadata": {},
   "source": [
    "The average of accuracy rate is shown as below."
   ]
  },
  {
   "cell_type": "code",
   "execution_count": 11,
   "metadata": {
    "collapsed": false
   },
   "outputs": [
    {
     "name": "stdout",
     "output_type": "stream",
     "text": [
      "The centroid method:  0.817256795994\n",
      "The PCA method:       0.925473726345\n"
     ]
    }
   ],
   "source": [
    "print  \"The centroid method: \", np.mean(result1)\n",
    "print  \"The PCA method:      \",np.mean(result2)"
   ]
  },
  {
   "cell_type": "markdown",
   "metadata": {},
   "source": [
    "<b>Conclusion</b>\n",
    "<br><br>\n",
    "Although the accuracy rate of the centroid method is low, the performance is good. The total time cost for training and testing is 0.7155, so when the performance is most matters, we can consider the centroid method.\n",
    "\n",
    "The PCA algorithm provide a way for how to reduce a large and complex data set to a lower dimension meanwhile keep the largest eigenvalues. The efficiency of the PCA algorithm can be adjust by increasing or decreasing the approximate length. When the approximate length is around 25, the PCA algorithm has the best efficiency. \n",
    "\n",
    "In conclusion, the PCA algorithm requires more considerable training and testing time for low error rate. The centroid method run much faster, but the error rate is relative high.\n",
    "\n",
    "In this paper, we only compare two method of pattern recognition. However, nowadays, there many others good efficiency algorithms, such as LeNet, KNN, and soft margin. We can continue study these algorithms and find out more keys that effect pattern recognition efficiency.  This will be import information for us, when we face plenty of data and need to choose an efficiency algorithm."
   ]
  },
  {
   "cell_type": "markdown",
   "metadata": {},
   "source": [
    "<b>Reference</b>\n",
    "<br>\n",
    "\n",
    "Chapra, S. C. (2008). Applied numerical methods with MATLAB for engineers and scientists. Boston: McGraw-Hill Higher Education.\n",
    "\n",
    "Eldén, L. Matrix methods in data mining and pattern recognition. Philadelphia,PA: Society for Industrial and Applied Mathematics, 2007. Print."
   ]
  }
 ],
 "metadata": {
  "anaconda-cloud": {},
  "kernelspec": {
   "display_name": "Python [default]",
   "language": "python",
   "name": "python2"
  },
  "language_info": {
   "codemirror_mode": {
    "name": "ipython",
    "version": 2
   },
   "file_extension": ".py",
   "mimetype": "text/x-python",
   "name": "python",
   "nbconvert_exporter": "python",
   "pygments_lexer": "ipython2",
   "version": "2.7.12"
  }
 },
 "nbformat": 4,
 "nbformat_minor": 1
}
